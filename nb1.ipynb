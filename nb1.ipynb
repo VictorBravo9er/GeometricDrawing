{
 "metadata": {
  "language_info": {
   "codemirror_mode": {
    "name": "ipython",
    "version": 3
   },
   "file_extension": ".py",
   "mimetype": "text/x-python",
   "name": "python",
   "nbconvert_exporter": "python",
   "pygments_lexer": "ipython3",
   "version": "3.8.6-final"
  },
  "orig_nbformat": 2,
  "kernelspec": {
   "name": "python3",
   "display_name": "Python 3",
   "language": "python"
  }
 },
 "nbformat": 4,
 "nbformat_minor": 2,
 "cells": [
  {
   "source": [
    "# Text input"
   ],
   "cell_type": "markdown",
   "metadata": {}
  },
  {
   "cell_type": "code",
   "execution_count": null,
   "metadata": {},
   "outputs": [],
   "source": [
    "with open(\"input.txt\") as file:\n",
    "    inp = file.read()\n",
    "print(inp)"
   ]
  },
  {
   "source": [
    "## Process Natural Text"
   ],
   "cell_type": "markdown",
   "metadata": {}
  },
  {
   "cell_type": "code",
   "execution_count": null,
   "metadata": {},
   "outputs": [],
   "source": [
    "from Parser.Preprocessing_Parsing import parseNaturalInput as pni\n",
    "\n",
    "inter_rep = pni(text=inp)\n",
    "for inst in inter_rep:\n",
    "    print(\" \".join(inst))"
   ]
  },
  {
   "cell_type": "code",
   "execution_count": null,
   "metadata": {},
   "outputs": [],
   "source": [
    "from Parser.parse import Parser\n",
    "\n",
    "data = Parser.parse(inputList=inter_rep, _show=True, _error=True)"
   ]
  },
  {
   "cell_type": "code",
   "execution_count": null,
   "metadata": {},
   "outputs": [],
   "source": [
    "print(\"Objects\",end=\"\\n\\n\")\n",
    "print(\"\\n\".join(data[Parser._printObject]))"
   ]
  },
  {
   "cell_type": "code",
   "execution_count": null,
   "metadata": {},
   "outputs": [],
   "source": [
    "print(\"Errors\",end=\"\\n\\n\")\n",
    "print(\"\\n\".join(data[Parser._printError]))"
   ]
  }
 ]
}